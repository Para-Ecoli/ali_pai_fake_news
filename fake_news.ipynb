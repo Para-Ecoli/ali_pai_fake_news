{
 "cells": [
  {
   "cell_type": "markdown",
   "id": "6953f7b9",
   "metadata": {},
   "source": [
    "## 检查硬件加速配置"
   ]
  },
  {
   "cell_type": "code",
   "execution_count": 1,
   "id": "4309852c",
   "metadata": {},
   "outputs": [
    {
     "name": "stdout",
     "output_type": "stream",
     "text": [
      "PyTorch版本: 2.5.1+cu124\n",
      "CUDA是否可用: True\n",
      "当前GPU设备: NVIDIA A10\n",
      "CUDA版本: 12.4\n"
     ]
    }
   ],
   "source": [
    "import torch\n",
    "\n",
    "print(\"PyTorch版本:\", torch.__version__)\n",
    "print(\"CUDA是否可用:\", torch.cuda.is_available())\n",
    "if torch.cuda.is_available():\n",
    "    print(\"当前GPU设备:\", torch.cuda.get_device_name(0))\n",
    "    print(\"CUDA版本:\", torch.version.cuda)\n",
    "else:\n",
    "    print(\"未检测到CUDA设备\")"
   ]
  },
  {
   "cell_type": "markdown",
   "id": "9e093645",
   "metadata": {},
   "source": [
    "## 数据预处理"
   ]
  },
  {
   "cell_type": "code",
   "execution_count": 2,
   "id": "4a48b3db",
   "metadata": {},
   "outputs": [
    {
     "name": "stderr",
     "output_type": "stream",
     "text": [
      "/usr/local/lib/python3.11/site-packages/tqdm/auto.py:21: TqdmWarning: IProgress not found. Please update jupyter and ipywidgets. See https://ipywidgets.readthedocs.io/en/stable/user_install.html\n",
      "  from .autonotebook import tqdm as notebook_tqdm\n"
     ]
    }
   ],
   "source": [
    "import os\n",
    "import pandas as pd\n",
    "from sklearn.model_selection import train_test_split\n",
    "from transformers import BertTokenizer\n",
    "\n",
    "# 合并数据集\n",
    "def merge_data(stances_path, bodies_path):\n",
    "    stances = pd.read_csv(stances_path)\n",
    "    bodies = pd.read_csv(bodies_path)\n",
    "    merged = pd.merge(stances, bodies, on='Body ID')\n",
    "    return merged[['Headline', 'articleBody', 'Stance']]\n",
    "\n",
    "train_data = merge_data('train_stances.csv', 'train_bodies.csv')\n",
    "test_data = merge_data('competition_test_stances.csv', 'competition_test_bodies.csv')\n",
    "\n",
    "# 文本预处理\n",
    "tokenizer = BertTokenizer.from_pretrained('bert-base-uncased')\n",
    "\n",
    "def preprocess(text):\n",
    "    return tokenizer(text, \n",
    "                   padding='max_length',\n",
    "                   truncation=True,\n",
    "                   max_length=512,\n",
    "                   return_tensors='pt')\n",
    "\n",
    "# 创建数据集\n",
    "class NewsDataset(torch.utils.data.Dataset):\n",
    "    def __init__(self, df):\n",
    "        self.texts = [preprocess(row['Headline'] + \" [SEP] \" + row['articleBody']) \n",
    "                     for _, row in df.iterrows()]\n",
    "        self.labels = torch.tensor(pd.get_dummies(df['Stance']).values.argmax(1))\n",
    "\n",
    "    def __len__(self):\n",
    "        return len(self.labels)\n",
    "\n",
    "    def __getitem__(self, idx):\n",
    "        return {\n",
    "            'input_ids': self.texts[idx]['input_ids'].squeeze(),\n",
    "            'attention_mask': self.texts[idx]['attention_mask'].squeeze(),\n",
    "            'labels': self.labels[idx]\n",
    "        }\n",
    "\n",
    "# 划分训练验证集\n",
    "train_df, val_df = train_test_split(train_data, test_size=0.2)\n",
    "train_dataset = NewsDataset(train_df)\n",
    "val_dataset = NewsDataset(val_df)\n",
    "test_dataset = NewsDataset(test_data)"
   ]
  },
  {
   "cell_type": "markdown",
   "id": "7cda2ec7",
   "metadata": {},
   "source": [
    "## 模型构建（基于BERT的改进方案）"
   ]
  },
  {
   "cell_type": "code",
   "execution_count": null,
   "id": "857012b6",
   "metadata": {},
   "outputs": [
    {
     "name": "stderr",
     "output_type": "stream",
     "text": [
      "Some weights of BertForSequenceClassification were not initialized from the model checkpoint at bert-base-uncased and are newly initialized: ['classifier.bias', 'classifier.weight']\n",
      "You should probably TRAIN this model on a down-stream task to be able to use it for predictions and inference.\n"
     ]
    }
   ],
   "source": [
    "from transformers import BertForSequenceClassification, TrainingArguments, Trainer\n",
    "import numpy as np\n",
    "from sklearn.metrics import accuracy_score, f1_score\n",
    "\n",
    "# 加载预训练模型\n",
    "model = BertForSequenceClassification.from_pretrained(\n",
    "    \"bert-base-uncased\",\n",
    "    num_labels=4,\n",
    "    output_attentions=False,\n",
    "    output_hidden_states=False\n",
    ")\n",
    "\n",
    "# 自定义评估指标\n",
    "def compute_metrics(pred):\n",
    "    labels = pred.label_ids\n",
    "    preds = pred.predictions.argmax(-1)\n",
    "    acc = accuracy_score(labels, preds)\n",
    "    f1 = f1_score(labels, preds, average='weighted')\n",
    "    return {'accuracy': acc, 'f1': f1}\n",
    "\n",
    "# 训练参数调整\n",
    "training_args = TrainingArguments(\n",
    "    output_dir='./results',\n",
    "    num_train_epochs=3,\n",
    "    per_device_train_batch_size=32,\n",
    "    per_device_eval_batch_size=64,\n",
    "    warmup_steps=500,\n",
    "    weight_decay=0.01,\n",
    "    logging_dir='./logs',\n",
    "    logging_steps=50,\n",
    "    eval_strategy=\"epoch\",\n",
    "    save_strategy=\"epoch\",\n",
    "    load_best_model_at_end=True,\n",
    "    fp16=True, # 保持开启混合精度（A10支持Tensor Core加速）\n",
    "    gradient_accumulation_steps=1, # 显存充足时可保持为1\n",
    "    dataloader_num_workers=4, # 增加数据加载线程\n",
    ")\n",
    "\n",
    "# 初始化Trainer\n",
    "trainer = Trainer(\n",
    "    model=model,\n",
    "    args=training_args,\n",
    "    train_dataset=train_dataset,\n",
    "    eval_dataset=val_dataset,\n",
    "    compute_metrics=compute_metrics\n",
    ")"
   ]
  },
  {
   "cell_type": "markdown",
   "id": "8dca751f",
   "metadata": {},
   "source": [
    "## 模型训练"
   ]
  },
  {
   "cell_type": "code",
   "execution_count": 13,
   "id": "06c8e0a5",
   "metadata": {},
   "outputs": [
    {
     "data": {
      "text/html": [
       "\n",
       "    <div>\n",
       "      \n",
       "      <progress value='3750' max='3750' style='width:300px; height:20px; vertical-align: middle;'></progress>\n",
       "      [3750/3750 20:33, Epoch 3/3]\n",
       "    </div>\n",
       "    <table border=\"1\" class=\"dataframe\">\n",
       "  <thead>\n",
       " <tr style=\"text-align: left;\">\n",
       "      <th>Epoch</th>\n",
       "      <th>Training Loss</th>\n",
       "      <th>Validation Loss</th>\n",
       "      <th>Accuracy</th>\n",
       "      <th>F1</th>\n",
       "    </tr>\n",
       "  </thead>\n",
       "  <tbody>\n",
       "    <tr>\n",
       "      <td>1</td>\n",
       "      <td>0.123400</td>\n",
       "      <td>0.134308</td>\n",
       "      <td>0.953077</td>\n",
       "      <td>0.947160</td>\n",
       "    </tr>\n",
       "    <tr>\n",
       "      <td>2</td>\n",
       "      <td>0.049300</td>\n",
       "      <td>0.060915</td>\n",
       "      <td>0.983992</td>\n",
       "      <td>0.983629</td>\n",
       "    </tr>\n",
       "    <tr>\n",
       "      <td>3</td>\n",
       "      <td>0.025000</td>\n",
       "      <td>0.040607</td>\n",
       "      <td>0.990295</td>\n",
       "      <td>0.990243</td>\n",
       "    </tr>\n",
       "  </tbody>\n",
       "</table><p>"
      ],
      "text/plain": [
       "<IPython.core.display.HTML object>"
      ]
     },
     "metadata": {},
     "output_type": "display_data"
    }
   ],
   "source": [
    "# 开始训练\n",
    "trainer.train()\n",
    "\n",
    "# 保存最佳模型\n",
    "trainer.save_model(\"best_model\")"
   ]
  },
  {
   "cell_type": "markdown",
   "id": "288f6cbb",
   "metadata": {},
   "source": [
    "## 模型测试"
   ]
  },
  {
   "cell_type": "code",
   "execution_count": 14,
   "id": "30ed3913",
   "metadata": {},
   "outputs": [
    {
     "name": "stdout",
     "output_type": "stream",
     "text": [
      "Test Accuracy: 0.9228\n",
      "Test F1 Score: 0.9209\n"
     ]
    }
   ],
   "source": [
    "# 加载测试集\n",
    "test_loader = torch.utils.data.DataLoader(test_dataset, batch_size=16)\n",
    "\n",
    "# 测试函数\n",
    "def evaluate(model, dataloader):\n",
    "    model.eval()\n",
    "    predictions, true_labels = [], []\n",
    "    \n",
    "    with torch.no_grad():\n",
    "        for batch in dataloader:\n",
    "            inputs = {\n",
    "                'input_ids': batch['input_ids'].to('cuda'),\n",
    "                'attention_mask': batch['attention_mask'].to('cuda'),\n",
    "                'labels': batch['labels'].to('cuda')\n",
    "            }\n",
    "            outputs = model(**inputs)\n",
    "            logits = outputs.logits\n",
    "            \n",
    "            predictions.extend(logits.argmax(dim=1).cpu().numpy())\n",
    "            true_labels.extend(inputs['labels'].cpu().numpy())\n",
    "    \n",
    "    return {\n",
    "        'accuracy': accuracy_score(true_labels, predictions),\n",
    "        'f1_score': f1_score(true_labels, predictions, average='weighted')\n",
    "    }\n",
    "\n",
    "# 执行测试\n",
    "results = evaluate(model, test_loader)\n",
    "print(f\"Test Accuracy: {results['accuracy']:.4f}\")\n",
    "print(f\"Test F1 Score: {results['f1_score']:.4f}\")"
   ]
  }
 ],
 "metadata": {
  "kernelspec": {
   "display_name": "Python 3",
   "language": "python",
   "name": "python3"
  },
  "language_info": {
   "codemirror_mode": {
    "name": "ipython",
    "version": 3
   },
   "file_extension": ".py",
   "mimetype": "text/x-python",
   "name": "python",
   "nbconvert_exporter": "python",
   "pygments_lexer": "ipython3",
   "version": "3.11.11"
  }
 },
 "nbformat": 4,
 "nbformat_minor": 5
}
